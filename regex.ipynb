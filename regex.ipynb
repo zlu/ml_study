{
 "cells": [
  {
   "cell_type": "markdown",
   "id": "77958f6f-0c1e-49c6-9b6e-fe5fb6493ac1",
   "metadata": {},
   "source": [
    "### Regular Expression\n",
    "\n",
    "- `{}` will control how many letters/digits to expect\n",
    "- `\\` to escape what comes after \n",
    "- `^`: matches the start of the string/line.\n",
    "- `$`: matches the end of the string/line.\n",
    "- `\\*`: matches zero or more occurrences of the preceding character or group.\n",
    "- `+`: matches one or more occurrences of the preceding character or group.\n",
    "- `?`: makes the preceding character or group optional.\n",
    "- `|`: acts as an OR operator, matching either the expression before or after the |.\n",
    "- `()`: used to group characters or subexpressions together.\n",
    "- `[0-9]`: matches any digit from 0 to 9.\n",
    "- `[0-9]+`: matches one or more digits.\n",
    "- `[a-z]`: matches any lowercase letter from a to z.\n",
    "- `[a-z]+`: matches one or more lowercase letters.\n",
    "- `[A-Z]`: matches any uppercase letter from A to Z.\n",
    "\n",
    "Example:\n",
    "\n",
    "- Matching file names ends with '.csv': \"\\.csv$\"\n",
    "- Match strings with three or four letters first, followed by three numbers: ^[a-z]{3,4}[0-9]{3}$"
   ]
  },
  {
   "cell_type": "markdown",
   "id": "7915088b",
   "metadata": {},
   "source": []
  },
  {
   "cell_type": "markdown",
   "id": "108f4b03",
   "metadata": {},
   "source": []
  }
 ],
 "metadata": {
  "kernelspec": {
   "display_name": "Python (ml_study)",
   "language": "python",
   "name": "ml_study"
  },
  "language_info": {
   "codemirror_mode": {
    "name": "ipython",
    "version": 3
   },
   "file_extension": ".py",
   "mimetype": "text/x-python",
   "name": "python",
   "nbconvert_exporter": "python",
   "pygments_lexer": "ipython3",
   "version": "3.12.9"
  }
 },
 "nbformat": 4,
 "nbformat_minor": 5
}
