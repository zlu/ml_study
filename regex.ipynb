{
 "cells": [
  {
   "cell_type": "markdown",
   "id": "77958f6f-0c1e-49c6-9b6e-fe5fb6493ac1",
   "metadata": {},
   "source": [
    "### Regular Expressoin\n",
    "\n",
    "- [a-z] will match letters between a to z\n",
    "- [0-9] will match digits between 0 to 9\n",
    "- {} will control how many letters/digits to expect\n",
    "- ^ for the start of the text\n",
    "- $ for the end of the text\n",
    "- \\ to escape what comes after\n",
    "\n",
    "Example:\n",
    "\n",
    "- Matching file names ends with '.csv': \"\\.csv$\"\n",
    "- Match strings with three or four letters first, followed by three numbers: ^[a-z]{3,4}[0-9]{3}$"
   ]
  }
 ],
 "metadata": {
  "kernelspec": {
   "display_name": "Python (ml_study)",
   "language": "python",
   "name": "ml_study"
  },
  "language_info": {
   "codemirror_mode": {
    "name": "ipython",
    "version": 3
   },
   "file_extension": ".py",
   "mimetype": "text/x-python",
   "name": "python",
   "nbconvert_exporter": "python",
   "pygments_lexer": "ipython3",
   "version": "3.12.9"
  }
 },
 "nbformat": 4,
 "nbformat_minor": 5
}
