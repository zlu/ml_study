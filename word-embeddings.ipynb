{
 "cells": [
  {
   "cell_type": "markdown",
   "metadata": {},
   "source": [
    "# Word Embeddings (Vectors)\n",
    "\n",
    "## Embedding Methods:\n",
    "- Frequency-based Embeddings\n",
    "  - TF-IDF: Term-Frenquency Inverse Document Frequency\n",
    "  - Count Vectorizer: Count the frequency of words in a document\n",
    "- Prediction-based Embeddings\n",
    "  - Word2Vec (Google): Predict a word based on its context\n",
    "    - CBOW: Context-Based Word Representation\n",
    "    - Skip-gram: Predict a word based on its context\n",
    "  - FastText: Subword-level embeddings\n",
    "  - GloVe (Stanford): Predict a word based on its context and the context of other words\n",
    "- Deep Learning-based Embeddings\n",
    "  - ELMo: Bidirectional LSTM\n",
    "  - BERT: Bidirectional Transformer\n",
    "- Contextual-based Embeddings\n",
    "  - Transformers: BERT, GPT-3, RoBERTa, XLNet\n"
   ]
  }
 ],
 "metadata": {
  "language_info": {
   "name": "python"
  }
 },
 "nbformat": 4,
 "nbformat_minor": 2
}
