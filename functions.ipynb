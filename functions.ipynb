{
 "cells": [
  {
   "cell_type": "markdown",
   "id": "e0b5be29-4bcb-400d-89a8-527a1479c63e",
   "metadata": {},
   "source": [
    "### Functions and Beyond\n",
    "\n",
    "#### Function\n",
    "\n",
    "Let $A$ and $B$ be sets of real numbers.  \n",
    "A function:\n",
    "$$ f: A \\rightarrow B $$\n",
    "is a rule that maps each element in $A$ to exactly one element in $B$.\n",
    "The unique element that $x$ mapped into, by the function $f$, is called the $image$ of $x$ under $f$, and is denoted $f(x)$.\n",
    "\n",
    "##### Examples\n",
    "\n",
    "Univariate linear function:\n",
    "$$ y = \\beta_0 + \\beta_1x + \\epsilon $$\n",
    "\n",
    "Multivariate linear function:\n",
    "$$ y = \\beta_0 + \\beta_1x_1 + \\beta_2x_2 + \\dots + \\beta_nx_n + \\epsilon $$\n",
    "\n",
    "Multivariate linear function - Summation notation:\n",
    "$$ f(x_1,\\dot,x_n) = \\sum_{i=0}^{i=n}\\alpha_ix_i $$\n",
    "\n",
    "where $\\alpha_i \\in$ \\mathbb{R}\n",
    "\n",
    "Multivariate linear function - Vector notation:\n",
    "\n",
    "$$ f(x) = \\alpha_0 + \\alpha^T \\times X, $$\n",
    "\n",
    "where $ x = [x_1 x_2 \\dots  x_n]^T $ and $ \\alpha = [\\alpha_1 \\alpha_2 \\dots \\alpha_n]^T $\n",
    "\n",
    "A polynomial function of degree $n$ has only integer powers (from 0 to $n$) of its variables:\n",
    "\n",
    "Univariate polynomial function:\n",
    "\n",
    "$ f(x) = \\alpha_0 + \\alpha_1x + \\alpha_2x^2 \\dots + \\alpha_nx^n $\n",
    "where $\\alpha_i \\in \\mathbb{R} $\n",
    "\n",
    "Univariate polynomial function - Summatoin notatoin:\n",
    "$$ f(x) = \\sum_{i=0}^{n}\\alpha_i x^i $$\n",
    "where $x_0 = 1$\n"
   ]
  },
  {
   "cell_type": "markdown",
   "id": "6e7295dc",
   "metadata": {},
   "source": [
    "#### Logarithm:\n",
    "Logarithm, the exponent or power to which a base must be raised to yield a given number. \n",
    "Expressed mathematically, x is the logarithm of n to the base b if $b^x$ = n, in which case one \n",
    "writes: \n",
    "$$x = log_b n$$\n",
    "\n",
    "For example, $2^3 = 8$; therefore, 3 is the logarithm of 8 to base 2, or $3 = log_2 8$\n",
    "\n",
    "#### Natural Logarithm:\n",
    "In math, \"ln\" stands for natural logarithm. It's a special kind of logarithm that uses a base called \"e\" (a mathematical constant, roughly 2.718). \n",
    "\n",
    "Simply put, ln(x) answers the question: \"To what power do I need to raise 'e' to get x?\" \n",
    "\n",
    "For example:\n",
    "- ln(1) = 0 because e⁰ = 1\n",
    "- ln(e) = 1 because e¹ = e\n",
    "- ln(7.389) ≈ 2 because e² ≈ 7.389\n",
    "\n",
    "It’s a way to \"undo\" exponential growth with base e, and it’s super useful in things like calculus, science, and modeling growth (like populations or investments). Does that help?"
   ]
  },
  {
   "cell_type": "markdown",
   "id": "7cf74844-478f-44be-801f-1a1a9efc1383",
   "metadata": {},
   "source": [
    "#### Function Composition\n",
    "\n",
    "If $ f: A \\rightarrow B $ and $ g: B \\rightarrow C$, then their composition, \n",
    "$ g \\circ f : A \\rightarrow C $, is defined as\n",
    "$$ (g \\circ f)(x) = g(f(x)) $$"
   ]
  },
  {
   "cell_type": "markdown",
   "id": "e28e0e4f-0554-462e-baad-2face03f0831",
   "metadata": {},
   "source": [
    "#### Sigmoid Function\n",
    "\n",
    "$ \\sigma : \\mathbb{R} \\rightarrow (0, 1) $ is defined as:\n",
    "$$ \\sigma(x) = \\frac{1}{1+e^{-x}} $$\n",
    "\n",
    "- $\\sigma(x)$ is strictly increasing in x\n",
    "- $\\lim_{x\\to{-\\infty}} \\sigma(x) = 0$ and $\\lim_{x\\to\\infty} \\sigma(x) = 1$\n",
    "- The sigmoid function has useful property of mapping any real number to the interal (0,1)\n",
    "- Therefore, it finds applications to classification problems\n",
    "- When sigmoid outputs 0.5, the set of all possible inputs for which this happens is called the decision boundary"
   ]
  },
  {
   "cell_type": "markdown",
   "id": "def65931-1ee0-4bef-98fe-769f2bbf9cfe",
   "metadata": {},
   "source": [
    "#### Derivative of a function\n",
    "\n",
    "$$ f^\\prime = \\lim_{t\\to 0}\\frac{f(x+t) - f(x)}{t}$$\n",
    "\n",
    "wherever the limit exists.\n",
    "- $f^\\prime$ is also written as $\\frac{df}{dx}$.\n",
    "- For a point $x^\\star$, the quantity $f^\\prime(x^\\star)$ is the instantaneous rate of change of $f$ at $x^\\star$\n",
    "- The limit in definition $f^\\prime$ is of the form $\\frac{0}{0}$.  To calculate $f^\\prime(x)$ we expand the formulas in the numerator to eliminate the denominator, before applying the limit."
   ]
  },
  {
   "cell_type": "markdown",
   "id": "e9c57a6b-b4ab-4f1f-9fdd-d055b6daf075",
   "metadata": {},
   "source": [
    "#### Loss Function (Cost Function)\n"
   ]
  },
  {
   "cell_type": "markdown",
   "id": "db1f3e39-f93a-465b-9d65-443d7e3bd68f",
   "metadata": {},
   "source": [
    "#### Gradient Descent"
   ]
  }
 ],
 "metadata": {
  "kernelspec": {
   "display_name": "Python (ml_study)",
   "language": "python",
   "name": "ml_study"
  },
  "language_info": {
   "codemirror_mode": {
    "name": "ipython",
    "version": 3
   },
   "file_extension": ".py",
   "mimetype": "text/x-python",
   "name": "python",
   "nbconvert_exporter": "python",
   "pygments_lexer": "ipython3",
   "version": "3.12.9"
  }
 },
 "nbformat": 4,
 "nbformat_minor": 5
}
