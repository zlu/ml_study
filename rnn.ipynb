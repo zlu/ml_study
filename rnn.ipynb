{
 "cells": [
  {
   "cell_type": "markdown",
   "id": "415c7cc4-ac09-45a8-bb7a-54cc1fe2bb33",
   "metadata": {},
   "source": [
    "### Recurrent Neural Network\n",
    "\n",
    "Hidden state\n"
   ]
  }
 ],
 "metadata": {
  "kernelspec": {
   "display_name": "Python (ml_study)",
   "language": "python",
   "name": "ml_study"
  },
  "language_info": {
   "codemirror_mode": {
    "name": "ipython",
    "version": 3
   },
   "file_extension": ".py",
   "mimetype": "text/x-python",
   "name": "python",
   "nbconvert_exporter": "python",
   "pygments_lexer": "ipython3",
   "version": "3.12.9"
  }
 },
 "nbformat": 4,
 "nbformat_minor": 5
}
