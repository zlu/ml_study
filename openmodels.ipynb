{
 "cells": [
  {
   "cell_type": "markdown",
   "metadata": {},
   "source": [
    "# Open Models\n",
    "\n",
    "There are many open models available across different domains, including general AI, code generation, vision, and multimodal models. Here are some notable ones:\n",
    "\n",
    "## General-Purpose Language Models\n",
    "- Llama 3 (Meta) – Expected soon, Llama 2 is still widely used\n",
    "- Mistral 7B – A highly efficient small model\n",
    "- Mixtral (Mistral AI) – 12.9B MoE (Mixture of Experts) model, better than Llama 2 13B\n",
    "- Falcon (TII) – Falcon 40B and Falcon 7B\n",
    "- Gemma (Google DeepMind) – Optimized for inference and fine-tuning\n",
    "- Command R (Cohere) – Retrieval-augmented generation\n",
    "- Phi-3 (Microsoft) – Small but powerful LLM\n",
    "\n",
    "## Code Models\n",
    "- StarCoder (BigCode) – Code model trained on GitHub data\n",
    "- Code Llama (Meta) – Specialized for programming tasks\n",
    "- WizardCoder – Fine-tuned for advanced coding abilities\n",
    "- DeepSeek-Coder – Competitor to Code Llama\n",
    "\n",
    "## Vision & Multimodal\n",
    "-\tQwen-VL (Alibaba) – Image and text understanding\n",
    "-\tBLIP-2 – Multimodal reasoning\n",
    "-\tIdefics (Hugging Face & Amazon) – Multimodal LLM\n",
    "\n",
    "## Speech & Audio\n",
    "-\tWhisper (OpenAI) – Speech-to-text\n",
    "-\tMMS (Meta) – Multi-lingual speech model\n",
    "\n",
    "## Model Hosting\n",
    "-\tHugging Face – Most open models are hosted here\n",
    "-\tTogether.ai – Free access to hosted models\n",
    "-\tOllama – Local model inference\n",
    "\n"
   ]
  }
 ],
 "metadata": {
  "language_info": {
   "name": "python"
  }
 },
 "nbformat": 4,
 "nbformat_minor": 2
}
