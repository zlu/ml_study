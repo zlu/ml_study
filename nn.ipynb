{
 "cells": [
  {
   "cell_type": "markdown",
   "metadata": {},
   "source": [
    "# Neural Networks (NNs)\n",
    "\n",
    "A **neural network** is a **parameterized, differentiable function approximator** inspired by the structure and function of biological neural systems. It is composed of layers of **artificial neurons** (also called units or nodes), each of which performs a weighted sum of its inputs followed by the application of a non-linear **activation function**.\n",
    "\n",
    "Formally, a neural network $f(\\mathbf{x}; \\boldsymbol{\\theta})$ maps an input vector $\\mathbf{x} \\in \\mathbb{R}^n$ to an output vector $\\mathbf{y} \\in \\mathbb{R}^m$, where $\\boldsymbol{\\theta}$ represents the learnable parameters (weights and biases). A typical feedforward neural network with $L$ layers can be defined recursively as:\n",
    "\n",
    "$$\n",
    "\\mathbf{h}^{(0)} = \\mathbf{x}\n",
    "$$\n",
    "\n",
    "$$\n",
    "\\mathbf{h}^{(l)} = \\phi^{(l)}\\left( \\mathbf{W}^{(l)} \\mathbf{h}^{(l-1)} + \\mathbf{b}^{(l)} \\right), \\quad \\text{for } l = 1, 2, \\ldots, L\n",
    "$$\n",
    "\n",
    "$$\n",
    "f(\\mathbf{x}; \\boldsymbol{\\theta}) = \\mathbf{h}^{(L)}\n",
    "$$\n",
    "\n",
    "Where:\n",
    "- $\\mathbf{W}^{(l)} \\in \\mathbb{R}^{d_l \\times d_{l-1}}$ is the weight matrix for layer $l$,\n",
    "- $\\mathbf{b}^{(l)} \\in \\mathbb{R}^{d_l}$ is the bias vector,\n",
    "- $\\phi^{(l)}$ is a non-linear activation function (e.g., ReLU, sigmoid, tanh),\n",
    "- $\\mathbf{h}^{(l)}$ is the output of the $l$-th layer (also called the hidden state),\n",
    "- $\\boldsymbol{\\theta} = \\{ \\mathbf{W}^{(l)}, \\mathbf{b}^{(l)} \\}_{l=1}^L$ is the set of all learnable parameters.\n",
    "\n",
    "Neural networks are typically trained using **gradient-based optimization**, most commonly **stochastic gradient descent (SGD)** or its variants, to minimize a **loss function** that quantifies the error between predicted and true outputs. The gradients are computed using **backpropagation**, which applies the chain rule of calculus to efficiently compute derivatives of the loss with respect to each parameter.\n",
    "\n",
    "Variants of neural networks include:\n",
    "- **Convolutional Neural Networks (CNNs)** for spatial data (e.g., images),\n",
    "- **Recurrent Neural Networks (RNNs)** for sequential data,\n",
    "- **Transformer architectures** for attention-based sequence modeling.\n",
    "\n",
    "Neural networks are universal function approximators and can represent any Borel measurable function to arbitrary accuracy given sufficient width, depth, and training data."
   ]
  }
 ],
 "metadata": {
  "language_info": {
   "name": "python"
  }
 },
 "nbformat": 4,
 "nbformat_minor": 2
}
