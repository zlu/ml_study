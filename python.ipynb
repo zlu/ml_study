{
 "cells": [
  {
   "cell_type": "markdown",
   "id": "ea6eba18-2913-4cd2-b419-fdf98728ae9c",
   "metadata": {},
   "source": [
    "### Python\n",
    "\n",
    "#### Understanding the `yield` keyword\n",
    "\n",
    "The yield keyword in Python is used to create generators, which are special types of iterators. Instead of returning a value and terminating the function (like return), yield pauses the function, saves its state, and allows resumption from where it left off.\n",
    "\n",
    "__How yield Works__\n",
    "\t1.\tWhen a function has yield, calling it does not execute the function immediately. Instead, it returns a generator object.\n",
    "\t2.\tEach time you iterate over the generator (using for, next(), or list()), the function runs until it reaches yield, then pauses.\n",
    "\t3.\tThe next time it resumes execution, it continues from where it left off, keeping its variables intact."
   ]
  },
  {
   "cell_type": "markdown",
   "id": "08bfaa0a-e607-4393-8380-59f2a5677926",
   "metadata": {},
   "source": [
    "#### Example 1: Simple yield Example"
   ]
  },
  {
   "cell_type": "code",
   "execution_count": 8,
   "id": "1ecfdeb4-cbc0-4c11-8cc9-b7d4ef259218",
   "metadata": {},
   "outputs": [
    {
     "name": "stdout",
     "output_type": "stream",
     "text": [
      "1\n",
      "2\n",
      "3\n",
      "4\n",
      "5\n"
     ]
    },
    {
     "ename": "StopIteration",
     "evalue": "",
     "output_type": "error",
     "traceback": [
      "\u001b[0;31m---------------------------------------------------------------------------\u001b[0m",
      "\u001b[0;31mStopIteration\u001b[0m                             Traceback (most recent call last)",
      "Cell \u001b[0;32mIn[8], line 15\u001b[0m\n\u001b[1;32m     13\u001b[0m \u001b[38;5;28mprint\u001b[39m(\u001b[38;5;28mnext\u001b[39m(gen))  \u001b[38;5;66;03m# Output: 4\u001b[39;00m\n\u001b[1;32m     14\u001b[0m \u001b[38;5;28mprint\u001b[39m(\u001b[38;5;28mnext\u001b[39m(gen))  \u001b[38;5;66;03m# Output: 5\u001b[39;00m\n\u001b[0;32m---> 15\u001b[0m \u001b[38;5;28mprint\u001b[39m(\u001b[38;5;28mnext\u001b[39m(gen))\n",
      "\u001b[0;31mStopIteration\u001b[0m: "
     ]
    }
   ],
   "source": [
    "def count_up_to(n):\n",
    "    count = 1\n",
    "    while count <= n:\n",
    "        yield count  # Pause and return the current count\n",
    "        count += 1  # Resume here when next() is called\n",
    "\n",
    "# Create a generator object\n",
    "gen = count_up_to(5)\n",
    "\n",
    "print(next(gen))  # Output: 1\n",
    "print(next(gen))  # Output: 2\n",
    "print(next(gen))  # Output: 3\n",
    "print(next(gen))  # Output: 4\n",
    "print(next(gen))  # Output: 5\n",
    "print(next(gen))  # Output: StopIteration"
   ]
  },
  {
   "cell_type": "code",
   "execution_count": 10,
   "id": "5bea95e0-744a-47b2-a740-0e2f504f2b38",
   "metadata": {},
   "outputs": [
    {
     "ename": "TypeError",
     "evalue": "'int' object is not an iterator",
     "output_type": "error",
     "traceback": [
      "\u001b[0;31m---------------------------------------------------------------------------\u001b[0m",
      "\u001b[0;31mTypeError\u001b[0m                                 Traceback (most recent call last)",
      "Cell \u001b[0;32mIn[10], line 7\u001b[0m\n\u001b[1;32m      4\u001b[0m         count \u001b[38;5;241m+\u001b[39m\u001b[38;5;241m=\u001b[39m \u001b[38;5;241m1\u001b[39m  \u001b[38;5;66;03m# Resume here when next() is called\u001b[39;00m\n\u001b[1;32m      5\u001b[0m     \u001b[38;5;28;01mreturn\u001b[39;00m count    \n\u001b[0;32m----> 7\u001b[0m \u001b[38;5;28mprint\u001b[39m(\u001b[38;5;28mnext\u001b[39m(count_up_to(\u001b[38;5;241m5\u001b[39m)))\n",
      "\u001b[0;31mTypeError\u001b[0m: 'int' object is not an iterator"
     ]
    }
   ],
   "source": [
    "def count_up_to(n):\n",
    "    count = 1\n",
    "    while count < n:\n",
    "        count += 1  # Resume here when next() is called\n",
    "    return count    \n",
    "\n",
    "print(next(count_up_to(5)))"
   ]
  },
  {
   "cell_type": "markdown",
   "id": "a490de91-d6bd-40fa-a915-72facd3ef096",
   "metadata": {},
   "source": [
    "#### Example 2: Using yield in a Loop"
   ]
  },
  {
   "cell_type": "code",
   "execution_count": 14,
   "id": "a93b4adc-da0f-48c2-9c6e-bc0d35588308",
   "metadata": {},
   "outputs": [
    {
     "name": "stdout",
     "output_type": "stream",
     "text": [
      "2 4 6 8 10 "
     ]
    }
   ],
   "source": [
    "def even_numbers(n):\n",
    "    for i in range(2, n + 1, 2):\n",
    "        yield i\n",
    "\n",
    "# Using the generator in a for loop\n",
    "for num in even_numbers(10):\n",
    "    print(num, end=\" \")  # Output: 2 4 6 8 10"
   ]
  },
  {
   "cell_type": "markdown",
   "id": "3310219b-bbb3-4bcb-b26d-27c2868487c0",
   "metadata": {},
   "source": [
    "The function does not store all numbers in memory. It generates them on demand, making it memory-efficient."
   ]
  },
  {
   "cell_type": "markdown",
   "id": "e57c8104-0de8-424f-8960-cfd3b0679420",
   "metadata": {},
   "source": [
    "#### Example 3: Processing Large Data with yield\n",
    "\n",
    "If you have millions of records, using yield avoids loading everything into memory."
   ]
  },
  {
   "cell_type": "code",
   "execution_count": 19,
   "id": "05992615-65ce-4936-848a-616aad53242e",
   "metadata": {},
   "outputs": [
    {
     "ename": "FileNotFoundError",
     "evalue": "[Errno 2] No such file or directory: 'bigfile.txt'",
     "output_type": "error",
     "traceback": [
      "\u001b[0;31m---------------------------------------------------------------------------\u001b[0m",
      "\u001b[0;31mFileNotFoundError\u001b[0m                         Traceback (most recent call last)",
      "Cell \u001b[0;32mIn[19], line 7\u001b[0m\n\u001b[1;32m      4\u001b[0m             \u001b[38;5;28;01myield\u001b[39;00m line\u001b[38;5;241m.\u001b[39mstrip()  \u001b[38;5;66;03m# Yield one line at a time\u001b[39;00m\n\u001b[1;32m      6\u001b[0m \u001b[38;5;66;03m# Process file line by line without loading it all into memory\u001b[39;00m\n\u001b[0;32m----> 7\u001b[0m \u001b[38;5;28;01mfor\u001b[39;00m line \u001b[38;5;129;01min\u001b[39;00m read_large_file(\u001b[38;5;124m\"\u001b[39m\u001b[38;5;124mbigfile.txt\u001b[39m\u001b[38;5;124m\"\u001b[39m):\n\u001b[1;32m      8\u001b[0m     \u001b[38;5;28mprint\u001b[39m(line)\n",
      "Cell \u001b[0;32mIn[19], line 2\u001b[0m, in \u001b[0;36mread_large_file\u001b[0;34m(file_path)\u001b[0m\n\u001b[1;32m      1\u001b[0m \u001b[38;5;28;01mdef\u001b[39;00m \u001b[38;5;21mread_large_file\u001b[39m(file_path):\n\u001b[0;32m----> 2\u001b[0m     \u001b[38;5;28;01mwith\u001b[39;00m \u001b[38;5;28mopen\u001b[39m(file_path, \u001b[38;5;124m\"\u001b[39m\u001b[38;5;124mr\u001b[39m\u001b[38;5;124m\"\u001b[39m) \u001b[38;5;28;01mas\u001b[39;00m file:\n\u001b[1;32m      3\u001b[0m         \u001b[38;5;28;01mfor\u001b[39;00m line \u001b[38;5;129;01min\u001b[39;00m file:\n\u001b[1;32m      4\u001b[0m             \u001b[38;5;28;01myield\u001b[39;00m line\u001b[38;5;241m.\u001b[39mstrip()\n",
      "File \u001b[0;32m/opt/anaconda3/lib/python3.12/site-packages/IPython/core/interactiveshell.py:324\u001b[0m, in \u001b[0;36m_modified_open\u001b[0;34m(file, *args, **kwargs)\u001b[0m\n\u001b[1;32m    317\u001b[0m \u001b[38;5;28;01mif\u001b[39;00m file \u001b[38;5;129;01min\u001b[39;00m {\u001b[38;5;241m0\u001b[39m, \u001b[38;5;241m1\u001b[39m, \u001b[38;5;241m2\u001b[39m}:\n\u001b[1;32m    318\u001b[0m     \u001b[38;5;28;01mraise\u001b[39;00m \u001b[38;5;167;01mValueError\u001b[39;00m(\n\u001b[1;32m    319\u001b[0m         \u001b[38;5;124mf\u001b[39m\u001b[38;5;124m\"\u001b[39m\u001b[38;5;124mIPython won\u001b[39m\u001b[38;5;124m'\u001b[39m\u001b[38;5;124mt let you open fd=\u001b[39m\u001b[38;5;132;01m{\u001b[39;00mfile\u001b[38;5;132;01m}\u001b[39;00m\u001b[38;5;124m by default \u001b[39m\u001b[38;5;124m\"\u001b[39m\n\u001b[1;32m    320\u001b[0m         \u001b[38;5;124m\"\u001b[39m\u001b[38;5;124mas it is likely to crash IPython. If you know what you are doing, \u001b[39m\u001b[38;5;124m\"\u001b[39m\n\u001b[1;32m    321\u001b[0m         \u001b[38;5;124m\"\u001b[39m\u001b[38;5;124myou can use builtins\u001b[39m\u001b[38;5;124m'\u001b[39m\u001b[38;5;124m open.\u001b[39m\u001b[38;5;124m\"\u001b[39m\n\u001b[1;32m    322\u001b[0m     )\n\u001b[0;32m--> 324\u001b[0m \u001b[38;5;28;01mreturn\u001b[39;00m io_open(file, \u001b[38;5;241m*\u001b[39margs, \u001b[38;5;241m*\u001b[39m\u001b[38;5;241m*\u001b[39mkwargs)\n",
      "\u001b[0;31mFileNotFoundError\u001b[0m: [Errno 2] No such file or directory: 'bigfile.txt'"
     ]
    }
   ],
   "source": [
    "def read_large_file(file_path):\n",
    "    with open(file_path, \"r\") as file:\n",
    "        for line in file:\n",
    "            yield line.strip()  # Yield one line at a time\n",
    "\n",
    "# Process file line by line without loading it all into memory\n",
    "for line in read_large_file(\"bigfile.txt\"):\n",
    "    print(line)\n",
    "\n",
    "# but how I can print out the memory to help people visualize it???"
   ]
  },
  {
   "cell_type": "markdown",
   "id": "db77df77-b2a4-41b1-b37c-768c2717e26a",
   "metadata": {},
   "source": [
    "Why use `yield`?\n",
    "* It reads one line at a time, instead of loading the whole file into RAM.\n",
    "* This is much more efficient for large files.\n",
    "* yield creates a generator instead of returning a single value.\n",
    "* It remembers its state between calls, making it great for iterating over large datasets efficiently.\n",
    "* Use it when processing large files, generating infinite sequences, or optimizing memory usage."
   ]
  },
  {
   "cell_type": "markdown",
   "id": "83b3a28a-eba7-4a4d-83e2-bfc27f2fbcd4",
   "metadata": {},
   "source": [
    "#### `zip`\n",
    "It combines the elements from two lists into one."
   ]
  },
  {
   "cell_type": "code",
   "execution_count": 27,
   "id": "791ac3d4-2e5a-4771-a7eb-453916cefee2",
   "metadata": {},
   "outputs": [
    {
     "name": "stdout",
     "output_type": "stream",
     "text": [
      "Zipped Bigrams: [('fast charging', 50), ('battery lasts', 80), ('high quality', 30), ('screen display', 60)]\n"
     ]
    }
   ],
   "source": [
    "# Sample bigram vocabulary and frequencies\n",
    "bigram_vocab = [\"fast charging\", \"battery lasts\", \"high quality\", \"screen display\"]\n",
    "bigram_freq = [50, 80, 30, 60]  # Respective frequencies\n",
    "\n",
    "# Zip together bigrams and their frequencies\n",
    "zipped_bigrams = list(zip(bigram_vocab, bigram_freq))\n",
    "print(\"Zipped Bigrams:\", zipped_bigrams)"
   ]
  },
  {
   "cell_type": "code",
   "execution_count": 29,
   "id": "143808f7-d1b8-4477-a4f4-8af27825bf70",
   "metadata": {},
   "outputs": [
    {
     "name": "stdout",
     "output_type": "stream",
     "text": [
      "Sorted Bigrams: [('battery lasts', 80), ('screen display', 60), ('fast charging', 50), ('high quality', 30)]\n"
     ]
    }
   ],
   "source": [
    "# Sorting a list\n",
    "# x[1] is the second element of the inner list. In [('x', y)], it is y.\n",
    "sorted_bigrams = sorted(zipped_bigrams, key=lambda x: x[1], reverse=True)\n",
    "print(\"Sorted Bigrams:\", sorted_bigrams)"
   ]
  },
  {
   "cell_type": "code",
   "execution_count": null,
   "id": "eba0641f",
   "metadata": {},
   "outputs": [],
   "source": []
  }
 ],
 "metadata": {
  "kernelspec": {
   "display_name": "ml_study",
   "language": "python",
   "name": "python3"
  },
  "language_info": {
   "codemirror_mode": {
    "name": "ipython",
    "version": 3
   },
   "file_extension": ".py",
   "mimetype": "text/x-python",
   "name": "python",
   "nbconvert_exporter": "python",
   "pygments_lexer": "ipython3",
   "version": "3.12.9"
  }
 },
 "nbformat": 4,
 "nbformat_minor": 5
}
