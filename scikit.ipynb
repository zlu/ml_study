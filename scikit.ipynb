{
 "cells": [
  {
   "cell_type": "markdown",
   "id": "48846217-a65e-4980-80ee-6cd83ad24b5e",
   "metadata": {},
   "source": [
    "### Scikit Learn"
   ]
  },
  {
   "cell_type": "markdown",
   "id": "cc269108-219d-48df-a4a6-f3749dae1031",
   "metadata": {},
   "source": [
    "MinMaxScaler is a preprocessing tool in the scikit-learn library used for feature scaling. Its primary purpose is to scale the features of a dataset to a specific range, typically between 0 and 1. This process is known as min-max normalization or min-max scaling.  It works by transforming each feature (column) in the dataset so that the minimum value of the feature becomes 0, and the maximum value becomes 1. The transformation is applied using the following formula:\n",
    "\n",
    "$$\\text{X}_{\\text{scaled}} = \\frac{\\text{X} - \\text{X}_{\\text{min}}}{\\text{X}_{\\text{max}} - \\text{X}_{\\text{min}}}$$\n",
    "Where:\n",
    "- $\\text{X}$ is the original feature value.\n",
    "- $\\text{X}_{\\text{min}}$ is the minimum value of the feature.\n",
    "- $\\text{X}_{\\text{max}}$ is the maximum value of the feature.\n",
    "\n",
    "Example\n",
    "\n",
    "Suppose you have a dataset with a feature `Age` with values ranging from 20 to 60. \n",
    "Applying `MinMaxScaler` to this feature will transform the values as follows:\n",
    "- The minimum value (20) will be scaled to 0.\n",
    "- The maximum value (60) will be scaled to 1.\n",
    "- Any value in between will be scaled proportionally.\n",
    "\n",
    "For example, the value 40 will be scaled to 0.5.\n",
    "\n",
    "Why Use `MinMaxScaler`?\n",
    "1. Normalization: It ensures that all features are on a similar scale, which can improve the performance of many machine learning algorithms, especially those that rely on distance calculations (e.g., k-nearest neighbors, support vector machines)\n",
    "2. Avoiding Dominance: Features with larger ranges can dominate the model, leading to biased results. Scaling helps mitigate this issue.\n",
    "3. Consistency: It makes the data more consistent and easier to interpret."
   ]
  },
  {
   "cell_type": "code",
   "execution_count": 7,
   "id": "28f2ebd5-cf1d-45f7-b7a2-e35f9cadb418",
   "metadata": {},
   "outputs": [
    {
     "name": "stdout",
     "output_type": "stream",
     "text": [
      "Original Data:\n",
      " [[   20 50000]\n",
      " [   30 60000]\n",
      " [   40 70000]\n",
      " [   50 80000]\n",
      " [   60 90000]]\n",
      "Scaled Data:\n",
      " [[0.   0.  ]\n",
      " [0.25 0.25]\n",
      " [0.5  0.5 ]\n",
      " [0.75 0.75]\n",
      " [1.   1.  ]]\n"
     ]
    }
   ],
   "source": [
    "import numpy as np\n",
    "import pandas as pd\n",
    "from sklearn.preprocessing import MinMaxScaler\n",
    "\n",
    "# Sample data\n",
    "data = np.array([[20, 50000],\n",
    "                 [30, 60000],\n",
    "                 [40, 70000],\n",
    "                 [50, 80000],\n",
    "                 [60, 90000]])\n",
    "\n",
    "\n",
    "\n",
    "# Create a MinMaxScaler object\n",
    "scaler = MinMaxScaler()\n",
    "\n",
    "# Fit the scaler to the data and transform it\n",
    "scaled_data = scaler.fit_transform(data)\n",
    "\n",
    "\n",
    "print(\"Original Data:\\n\", data)\n",
    "print(\"Scaled Data:\\n\", scaled_data)\n"
   ]
  },
  {
   "cell_type": "code",
   "execution_count": 15,
   "id": "e0cbb82f-2de4-4f92-acce-764f8607e49f",
   "metadata": {},
   "outputs": [],
   "source": [
    "import seaborn as sns\n",
    "\n",
    "df = pd.DataFrame(data, columns=['X', 'Y'])\n",
    "scaled_df = pd.DataFrame(scaled_data, columns=['X_scaled', 'Y_scaled'])\n",
    "\n",
    "# Combine original and scaled data for plotting\n",
    "combined_df = pd.concat([df, scaled_df], axis=1)\n",
    "# TODO use seaborn to draw the above data\n",
    "# sns.scatterplot(data=combined_df, color='blue')"
   ]
  },
  {
   "cell_type": "code",
   "execution_count": null,
   "id": "b98ff6d9-632b-47db-8779-ea7f5026cd05",
   "metadata": {},
   "outputs": [],
   "source": []
  }
 ],
 "metadata": {
  "kernelspec": {
   "display_name": "Python (ml_study)",
   "language": "python",
   "name": "ml_study"
  },
  "language_info": {
   "codemirror_mode": {
    "name": "ipython",
    "version": 3
   },
   "file_extension": ".py",
   "mimetype": "text/x-python",
   "name": "python",
   "nbconvert_exporter": "python",
   "pygments_lexer": "ipython3",
   "version": "3.12.9"
  }
 },
 "nbformat": 4,
 "nbformat_minor": 5
}
